{
 "cells": [
  {
   "cell_type": "code",
   "execution_count": 6,
   "metadata": {},
   "outputs": [],
   "source": [
    "import pandas as pd\n",
    "from yahoofinancials import YahooFinancials"
   ]
  },
  {
   "cell_type": "code",
   "execution_count": 5,
   "metadata": {},
   "outputs": [
    {
     "name": "stdout",
     "output_type": "stream",
     "text": [
      "{'DOW': {'eventsData': {}}}\n"
     ]
    }
   ],
   "source": [
    "yahoo_financials = YahooFinancials(['DOW',])\n",
    "temp = yahoo_financials.get_historical_price_data(\"2017-03-10\", \"2017-4-10\", \"daily\")\n",
    "print(temp)"
   ]
  },
  {
   "cell_type": "code",
   "execution_count": 7,
   "metadata": {},
   "outputs": [
    {
     "name": "stdout",
     "output_type": "stream",
     "text": [
      "30\n"
     ]
    },
    {
     "data": {
      "text/html": [
       "<div>\n",
       "<style scoped>\n",
       "    .dataframe tbody tr th:only-of-type {\n",
       "        vertical-align: middle;\n",
       "    }\n",
       "\n",
       "    .dataframe tbody tr th {\n",
       "        vertical-align: top;\n",
       "    }\n",
       "\n",
       "    .dataframe thead th {\n",
       "        text-align: right;\n",
       "    }\n",
       "</style>\n",
       "<table border=\"1\" class=\"dataframe\">\n",
       "  <thead>\n",
       "    <tr style=\"text-align: right;\">\n",
       "      <th></th>\n",
       "      <th>datadate</th>\n",
       "      <th>tic</th>\n",
       "      <th>open</th>\n",
       "      <th>high</th>\n",
       "      <th>low</th>\n",
       "      <th>adjcp</th>\n",
       "      <th>volume</th>\n",
       "    </tr>\n",
       "  </thead>\n",
       "  <tbody>\n",
       "    <tr>\n",
       "      <th>0</th>\n",
       "      <td>20110301</td>\n",
       "      <td>AAPL</td>\n",
       "      <td>12.695357</td>\n",
       "      <td>12.704286</td>\n",
       "      <td>12.417143</td>\n",
       "      <td>10.745816</td>\n",
       "      <td>456136800</td>\n",
       "    </tr>\n",
       "    <tr>\n",
       "      <th>1</th>\n",
       "      <td>20110302</td>\n",
       "      <td>AAPL</td>\n",
       "      <td>12.498571</td>\n",
       "      <td>12.655357</td>\n",
       "      <td>12.442857</td>\n",
       "      <td>10.832259</td>\n",
       "      <td>602590800</td>\n",
       "    </tr>\n",
       "    <tr>\n",
       "      <th>2</th>\n",
       "      <td>20110303</td>\n",
       "      <td>AAPL</td>\n",
       "      <td>12.756786</td>\n",
       "      <td>12.849643</td>\n",
       "      <td>12.711429</td>\n",
       "      <td>11.061138</td>\n",
       "      <td>500788400</td>\n",
       "    </tr>\n",
       "    <tr>\n",
       "      <th>3</th>\n",
       "      <td>20110304</td>\n",
       "      <td>AAPL</td>\n",
       "      <td>12.859643</td>\n",
       "      <td>12.867500</td>\n",
       "      <td>12.776786</td>\n",
       "      <td>11.074675</td>\n",
       "      <td>453266800</td>\n",
       "    </tr>\n",
       "    <tr>\n",
       "      <th>4</th>\n",
       "      <td>20110307</td>\n",
       "      <td>AAPL</td>\n",
       "      <td>12.907143</td>\n",
       "      <td>12.916786</td>\n",
       "      <td>12.546786</td>\n",
       "      <td>10.931933</td>\n",
       "      <td>546123200</td>\n",
       "    </tr>\n",
       "    <tr>\n",
       "      <th>...</th>\n",
       "      <td>...</td>\n",
       "      <td>...</td>\n",
       "      <td>...</td>\n",
       "      <td>...</td>\n",
       "      <td>...</td>\n",
       "      <td>...</td>\n",
       "      <td>...</td>\n",
       "    </tr>\n",
       "    <tr>\n",
       "      <th>75475</th>\n",
       "      <td>20210222</td>\n",
       "      <td>WMT</td>\n",
       "      <td>137.740005</td>\n",
       "      <td>138.339996</td>\n",
       "      <td>136.250000</td>\n",
       "      <td>137.690002</td>\n",
       "      <td>10702200</td>\n",
       "    </tr>\n",
       "    <tr>\n",
       "      <th>75476</th>\n",
       "      <td>20210223</td>\n",
       "      <td>WMT</td>\n",
       "      <td>137.110001</td>\n",
       "      <td>137.389999</td>\n",
       "      <td>135.059998</td>\n",
       "      <td>135.470001</td>\n",
       "      <td>10433400</td>\n",
       "    </tr>\n",
       "    <tr>\n",
       "      <th>75477</th>\n",
       "      <td>20210224</td>\n",
       "      <td>WMT</td>\n",
       "      <td>135.869995</td>\n",
       "      <td>136.160004</td>\n",
       "      <td>133.050003</td>\n",
       "      <td>133.210007</td>\n",
       "      <td>15521900</td>\n",
       "    </tr>\n",
       "    <tr>\n",
       "      <th>75478</th>\n",
       "      <td>20210225</td>\n",
       "      <td>WMT</td>\n",
       "      <td>133.100006</td>\n",
       "      <td>134.009995</td>\n",
       "      <td>131.479996</td>\n",
       "      <td>131.949997</td>\n",
       "      <td>11108200</td>\n",
       "    </tr>\n",
       "    <tr>\n",
       "      <th>75479</th>\n",
       "      <td>20210226</td>\n",
       "      <td>WMT</td>\n",
       "      <td>131.479996</td>\n",
       "      <td>131.809998</td>\n",
       "      <td>129.860001</td>\n",
       "      <td>129.919998</td>\n",
       "      <td>14146800</td>\n",
       "    </tr>\n",
       "  </tbody>\n",
       "</table>\n",
       "<p>75480 rows × 7 columns</p>\n",
       "</div>"
      ],
      "text/plain": [
       "       datadate   tic        open        high         low       adjcp  \\\n",
       "0      20110301  AAPL   12.695357   12.704286   12.417143   10.745816   \n",
       "1      20110302  AAPL   12.498571   12.655357   12.442857   10.832259   \n",
       "2      20110303  AAPL   12.756786   12.849643   12.711429   11.061138   \n",
       "3      20110304  AAPL   12.859643   12.867500   12.776786   11.074675   \n",
       "4      20110307  AAPL   12.907143   12.916786   12.546786   10.931933   \n",
       "...         ...   ...         ...         ...         ...         ...   \n",
       "75475  20210222   WMT  137.740005  138.339996  136.250000  137.690002   \n",
       "75476  20210223   WMT  137.110001  137.389999  135.059998  135.470001   \n",
       "75477  20210224   WMT  135.869995  136.160004  133.050003  133.210007   \n",
       "75478  20210225   WMT  133.100006  134.009995  131.479996  131.949997   \n",
       "75479  20210226   WMT  131.479996  131.809998  129.860001  129.919998   \n",
       "\n",
       "          volume  \n",
       "0      456136800  \n",
       "1      602590800  \n",
       "2      500788400  \n",
       "3      453266800  \n",
       "4      546123200  \n",
       "...          ...  \n",
       "75475   10702200  \n",
       "75476   10433400  \n",
       "75477   15521900  \n",
       "75478   11108200  \n",
       "75479   14146800  \n",
       "\n",
       "[75480 rows x 7 columns]"
      ]
     },
     "execution_count": 7,
     "metadata": {},
     "output_type": "execute_result"
    }
   ],
   "source": [
    "#switched out DOW for TSLA\n",
    "tickers = ['AAPL', 'AMGN','AXP','BA','CAT','CRM','CSCO','CVX','DIS','TSLA','GS','HD','HON','IBM','INTC','JNJ','JPM','KO','MCD','MMM','MRK','MSFT','NKE','PG','TRV','UNH','V','VZ','WBA','WMT']\n",
    "print(len(tickers))\n",
    "yahoo_financials = YahooFinancials(tickers)\n",
    "temp = yahoo_financials.get_historical_price_data(\"2011-03-01\", \"2021-3-01\", \"daily\")\n",
    "df = pd.DataFrame()\n",
    "df_pre = []\n",
    "for a in tickers:\n",
    "    for x in temp[a]['prices']:\n",
    "        date = x['formatted_date']\n",
    "        date2 = date[:4]+date[5:7]+date[8:]\n",
    "        df_pre.append([date2, a, x['open'], x['high'], x['low'], x['adjclose'], x['volume']])\n",
    "df = pd.DataFrame(df_pre, columns=['datadate', 'tic', 'open', 'high', 'low', 'adjcp', 'volume'])\n",
    "df"
   ]
  },
  {
   "cell_type": "code",
   "execution_count": 8,
   "metadata": {},
   "outputs": [],
   "source": [
    "df.to_csv(\"stock_data.csv\")"
   ]
  },
  {
   "cell_type": "code",
   "execution_count": 28,
   "metadata": {},
   "outputs": [],
   "source": [
    "df = pd.read_csv(\"done_data.csv\")\n",
    "data = df[(df.datadate >= 20110301) & (df.datadate < 20110401)]\n",
    "data = data.sort_values(['datadate','tic'],ignore_index=True)\n",
    "data.index = data.datadate.factorize()[0]"
   ]
  },
  {
   "cell_type": "code",
   "execution_count": 33,
   "metadata": {},
   "outputs": [
    {
     "name": "stdout",
     "output_type": "stream",
     "text": [
      "[10.745816230773926, 41.07742691040039, 37.19963455200195, 56.33110809326172, 75.52627563476562, 32.012500762939446, 13.879755020141602, 69.12543487548828, 37.85514831542969, 138.16670227050778, 29.043302536010746, 43.2952880859375, 114.34309387207031, 15.83035659790039, 45.38909530639648, 34.517852783203125, 23.7879638671875, 56.1139030456543, 68.90581512451172, 23.168975830078125, 20.873891830444336, 19.36783218383789, 46.127479553222656, 46.34609603881836, 4.788000106811523, 36.36486053466797, 16.922571182250973, 22.84408950805664, 33.208465576171875, 40.87687301635742]\n"
     ]
    }
   ],
   "source": [
    "data2 = data.loc[0:14,:]\n",
    "print(data2.loc[0].adjcp.values.tolist())"
   ]
  },
  {
   "cell_type": "code",
   "execution_count": 36,
   "metadata": {},
   "outputs": [
    {
     "name": "stdout",
     "output_type": "stream",
     "text": [
      "    Unnamed: 0  Unnamed: 0.1  datadate   tic        open        high  \\\n",
      "0            0             0  20110301  AAPL   12.695357   12.704286   \n",
      "0         2516          2516  20110301  AMGN   52.169998   52.490002   \n",
      "0         5032          5032  20110301   AXP   43.700001   43.939999   \n",
      "0         7548          7548  20110301    BA   71.930000   72.230003   \n",
      "0        10064         10064  20110301   CAT  103.370003  103.639999   \n",
      "..         ...           ...       ...   ...         ...         ...   \n",
      "14       62914         62914  20110321   UNH   42.830002   43.430000   \n",
      "14       65430         65430  20110321     V   17.959999   18.080000   \n",
      "14       67946         67946  20110321    VZ   36.660000   37.299999   \n",
      "14       70462         70462  20110321   WBA   41.470001   41.990002   \n",
      "14       72978         72978  20110321   WMT   51.730000   52.000000   \n",
      "\n",
      "          low      adjcp     volume      macd         rsi        cci  \\\n",
      "0   12.417143  10.745816  456136800  0.000000  100.000000  66.666667   \n",
      "0   51.740002  41.077427    6668500  0.000000    0.000000 -66.666667   \n",
      "0   43.110001  37.199635    8848900  0.000000    0.000000 -66.666667   \n",
      "0   69.989998  56.331108    5186200  0.000000    0.000000 -66.666667   \n",
      "0   99.349998  75.526276    7283700  0.000000  100.000000 -66.666667   \n",
      "..        ...        ...        ...       ...         ...        ...   \n",
      "14  42.660000  37.105247    4592100 -0.140313   53.714263 -22.855104   \n",
      "14  17.907499  16.750317   14807600 -0.080900   45.729459 -48.151003   \n",
      "14  36.380001  23.123146   27020700 -0.043110   55.298869  98.103335   \n",
      "14  41.150002  32.625454   11485800 -0.105330   46.602276 -41.042669   \n",
      "14  51.680000  41.044811    8716700 -0.031684   52.504128 -36.138863   \n",
      "\n",
      "           adx  \n",
      "0   100.000000  \n",
      "0   100.000000  \n",
      "0   100.000000  \n",
      "0   100.000000  \n",
      "0   100.000000  \n",
      "..         ...  \n",
      "14    5.337426  \n",
      "14   47.056642  \n",
      "14    6.034600  \n",
      "14   50.440522  \n",
      "14    4.337460  \n",
      "\n",
      "[450 rows x 13 columns]\n"
     ]
    }
   ],
   "source": [
    "print(data2.loc[0:13])"
   ]
  },
  {
   "cell_type": "code",
   "execution_count": null,
   "metadata": {},
   "outputs": [],
   "source": []
  }
 ],
 "metadata": {
  "kernelspec": {
   "display_name": "Python 3",
   "language": "python",
   "name": "python3"
  },
  "language_info": {
   "codemirror_mode": {
    "name": "ipython",
    "version": 3
   },
   "file_extension": ".py",
   "mimetype": "text/x-python",
   "name": "python",
   "nbconvert_exporter": "python",
   "pygments_lexer": "ipython3",
   "version": "3.8.7"
  }
 },
 "nbformat": 4,
 "nbformat_minor": 4
}
