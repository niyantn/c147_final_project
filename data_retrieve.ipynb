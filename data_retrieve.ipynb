{
 "cells": [
  {
   "cell_type": "code",
   "execution_count": 40,
   "metadata": {},
   "outputs": [],
   "source": [
    "import pandas as pd\n",
    "from yahoofinancials import YahooFinancials"
   ]
  },
  {
   "cell_type": "code",
   "execution_count": 43,
   "metadata": {},
   "outputs": [
    {
     "name": "stdout",
     "output_type": "stream",
     "text": [
      "{'DD': {'eventsData': {'dividends': {'2017-03-29': {'amount': 0.654704, 'date': 1490794200, 'formatted_date': '2017-03-29'}}}, 'firstTradeDate': {'formatted_date': '1972-06-01', 'date': 76253400}, 'currency': 'USD', 'instrumentType': 'EQUITY', 'timeZone': {'gmtOffset': -18000}, 'prices': [{'date': 1489156200, 'high': 91.1604232788086, 'low': 90.27799987792969, 'open': 90.84730529785156, 'close': 90.86154174804688, 'volume': 3863709, 'adjclose': 82.54359436035156, 'formatted_date': '2017-03-10'}, {'date': 1489411800, 'high': 91.43084716796875, 'low': 90.76190948486328, 'open': 90.91847229003906, 'close': 91.2458267211914, 'volume': 3083042, 'adjclose': 82.89268493652344, 'formatted_date': '2017-03-13'}, {'date': 1489498200, 'high': 91.26005554199219, 'low': 90.3207015991211, 'open': 91.07502746582031, 'close': 90.63381958007812, 'volume': 2478588, 'adjclose': 82.33670806884766, 'formatted_date': '2017-03-14'}, {'date': 1489584600, 'high': 91.80089569091797, 'low': 90.76190948486328, 'open': 90.97540283203125, 'close': 91.71549987792969, 'volume': 3111919, 'adjclose': 83.3193588256836, 'formatted_date': '2017-03-15'}, {'date': 1489671000, 'high': 91.77243041992188, 'low': 90.60535430908203, 'open': 91.67280578613281, 'close': 90.89000701904297, 'volume': 3374905, 'adjclose': 82.5694351196289, 'formatted_date': '2017-03-16'}, {'date': 1489757400, 'high': 91.6301040649414, 'low': 90.83307647705078, 'open': 91.3027572631836, 'close': 91.13196563720703, 'volume': 7688002, 'adjclose': 82.78923034667969, 'formatted_date': '2017-03-17'}, {'date': 1490016600, 'high': 92.02862548828125, 'low': 90.69075012207031, 'open': 91.01809692382812, 'close': 91.80089569091797, 'volume': 4620768, 'adjclose': 83.39694213867188, 'formatted_date': '2017-03-20'}, {'date': 1490103000, 'high': 92.12825012207031, 'low': 89.53790283203125, 'open': 91.85782623291016, 'close': 89.77985382080078, 'volume': 6969656, 'adjclose': 81.56090545654297, 'formatted_date': '2017-03-21'}, {'date': 1490189400, 'high': 89.56636810302734, 'low': 88.20002746582031, 'open': 89.46673583984375, 'close': 89.36711120605469, 'volume': 6510010, 'adjclose': 81.18595123291016, 'formatted_date': '2017-03-22'}, {'date': 1490275800, 'high': 90.98963165283203, 'low': 88.95436096191406, 'open': 89.1678466796875, 'close': 90.84730529785156, 'volume': 5372769, 'adjclose': 82.53063201904297, 'formatted_date': '2017-03-23'}, {'date': 1490362200, 'high': 91.45931243896484, 'low': 89.39557647705078, 'open': 90.61958312988281, 'close': 89.77985382080078, 'volume': 4169694, 'adjclose': 81.56090545654297, 'formatted_date': '2017-03-24'}, {'date': 1490621400, 'high': 92.02862548828125, 'low': 88.69817352294922, 'open': 89.12515258789062, 'close': 91.11772918701172, 'volume': 5839441, 'adjclose': 82.77632904052734, 'formatted_date': '2017-03-27'}, {'date': 1490707800, 'high': 93.11030578613281, 'low': 90.40609741210938, 'open': 90.90423583984375, 'close': 92.51253509521484, 'volume': 5968791, 'adjclose': 84.04344177246094, 'formatted_date': '2017-03-28'}, {'date': 1490794200, 'high': 92.07131958007812, 'low': 91.1746597290039, 'open': 91.48777770996094, 'close': 91.6870346069336, 'volume': 2717897, 'adjclose': 83.88716125488281, 'formatted_date': '2017-03-29'}, {'date': 1490880600, 'high': 91.90052795410156, 'low': 91.07502746582031, 'open': 91.6301040649414, 'close': 91.34545135498047, 'volume': 3253354, 'adjclose': 83.57463836669922, 'formatted_date': '2017-03-30'}, {'date': 1490967000, 'high': 91.1746597290039, 'low': 90.40609741210938, 'open': 91.04656219482422, 'close': 90.43456268310547, 'volume': 4663979, 'adjclose': 82.7412338256836, 'formatted_date': '2017-03-31'}, {'date': 1491226200, 'high': 90.7761459350586, 'low': 88.66970825195312, 'open': 90.47725677490234, 'close': 89.75138854980469, 'volume': 3936007, 'adjclose': 82.11618041992188, 'formatted_date': '2017-04-03'}, {'date': 1491312600, 'high': 90.02181243896484, 'low': 89.06822204589844, 'open': 89.75138854980469, 'close': 89.95064544677734, 'volume': 3573883, 'adjclose': 82.29847717285156, 'formatted_date': '2017-04-04'}, {'date': 1491399000, 'high': 91.7012710571289, 'low': 90.1783676147461, 'open': 90.34916687011719, 'close': 90.40609741210938, 'volume': 4435350, 'adjclose': 82.7151870727539, 'formatted_date': '2017-04-05'}, {'date': 1491485400, 'high': 91.08926391601562, 'low': 90.1783676147461, 'open': 90.37763214111328, 'close': 90.53418731689453, 'volume': 2679323, 'adjclose': 82.83238983154297, 'formatted_date': '2017-04-06'}, {'date': 1491571800, 'high': 90.47725677490234, 'low': 89.80831909179688, 'open': 90.27799987792969, 'close': 89.93641662597656, 'volume': 1899570, 'adjclose': 82.28546142578125, 'formatted_date': '2017-04-07'}]}}\n"
     ]
    }
   ],
   "source": [
    "yahoo_financials = YahooFinancials(['DD',])\n",
    "temp = yahoo_financials.get_historical_price_data(\"2017-03-10\", \"2017-4-10\", \"daily\")\n",
    "print(temp)"
   ]
  },
  {
   "cell_type": "code",
   "execution_count": 44,
   "metadata": {},
   "outputs": [
    {
     "name": "stdout",
     "output_type": "stream",
     "text": [
      "30\n"
     ]
    },
    {
     "data": {
      "text/html": [
       "<div>\n",
       "<style scoped>\n",
       "    .dataframe tbody tr th:only-of-type {\n",
       "        vertical-align: middle;\n",
       "    }\n",
       "\n",
       "    .dataframe tbody tr th {\n",
       "        vertical-align: top;\n",
       "    }\n",
       "\n",
       "    .dataframe thead th {\n",
       "        text-align: right;\n",
       "    }\n",
       "</style>\n",
       "<table border=\"1\" class=\"dataframe\">\n",
       "  <thead>\n",
       "    <tr style=\"text-align: right;\">\n",
       "      <th></th>\n",
       "      <th>datadate</th>\n",
       "      <th>tic</th>\n",
       "      <th>open</th>\n",
       "      <th>high</th>\n",
       "      <th>low</th>\n",
       "      <th>adjcp</th>\n",
       "      <th>volume</th>\n",
       "    </tr>\n",
       "  </thead>\n",
       "  <tbody>\n",
       "    <tr>\n",
       "      <th>0</th>\n",
       "      <td>20110301</td>\n",
       "      <td>AAPL</td>\n",
       "      <td>12.695357</td>\n",
       "      <td>12.704286</td>\n",
       "      <td>12.417143</td>\n",
       "      <td>10.745816</td>\n",
       "      <td>456136800</td>\n",
       "    </tr>\n",
       "    <tr>\n",
       "      <th>1</th>\n",
       "      <td>20110302</td>\n",
       "      <td>AAPL</td>\n",
       "      <td>12.498571</td>\n",
       "      <td>12.655357</td>\n",
       "      <td>12.442857</td>\n",
       "      <td>10.832259</td>\n",
       "      <td>602590800</td>\n",
       "    </tr>\n",
       "    <tr>\n",
       "      <th>2</th>\n",
       "      <td>20110303</td>\n",
       "      <td>AAPL</td>\n",
       "      <td>12.756786</td>\n",
       "      <td>12.849643</td>\n",
       "      <td>12.711429</td>\n",
       "      <td>11.061138</td>\n",
       "      <td>500788400</td>\n",
       "    </tr>\n",
       "    <tr>\n",
       "      <th>3</th>\n",
       "      <td>20110304</td>\n",
       "      <td>AAPL</td>\n",
       "      <td>12.859643</td>\n",
       "      <td>12.867500</td>\n",
       "      <td>12.776786</td>\n",
       "      <td>11.074675</td>\n",
       "      <td>453266800</td>\n",
       "    </tr>\n",
       "    <tr>\n",
       "      <th>4</th>\n",
       "      <td>20110307</td>\n",
       "      <td>AAPL</td>\n",
       "      <td>12.907143</td>\n",
       "      <td>12.916786</td>\n",
       "      <td>12.546786</td>\n",
       "      <td>10.931933</td>\n",
       "      <td>546123200</td>\n",
       "    </tr>\n",
       "    <tr>\n",
       "      <th>...</th>\n",
       "      <td>...</td>\n",
       "      <td>...</td>\n",
       "      <td>...</td>\n",
       "      <td>...</td>\n",
       "      <td>...</td>\n",
       "      <td>...</td>\n",
       "      <td>...</td>\n",
       "    </tr>\n",
       "    <tr>\n",
       "      <th>75475</th>\n",
       "      <td>20210222</td>\n",
       "      <td>WMT</td>\n",
       "      <td>137.740005</td>\n",
       "      <td>138.339996</td>\n",
       "      <td>136.250000</td>\n",
       "      <td>137.690002</td>\n",
       "      <td>10702200</td>\n",
       "    </tr>\n",
       "    <tr>\n",
       "      <th>75476</th>\n",
       "      <td>20210223</td>\n",
       "      <td>WMT</td>\n",
       "      <td>137.110001</td>\n",
       "      <td>137.389999</td>\n",
       "      <td>135.059998</td>\n",
       "      <td>135.470001</td>\n",
       "      <td>10433400</td>\n",
       "    </tr>\n",
       "    <tr>\n",
       "      <th>75477</th>\n",
       "      <td>20210224</td>\n",
       "      <td>WMT</td>\n",
       "      <td>135.869995</td>\n",
       "      <td>136.160004</td>\n",
       "      <td>133.050003</td>\n",
       "      <td>133.210007</td>\n",
       "      <td>15521900</td>\n",
       "    </tr>\n",
       "    <tr>\n",
       "      <th>75478</th>\n",
       "      <td>20210225</td>\n",
       "      <td>WMT</td>\n",
       "      <td>133.100006</td>\n",
       "      <td>134.009995</td>\n",
       "      <td>131.479996</td>\n",
       "      <td>131.949997</td>\n",
       "      <td>11108200</td>\n",
       "    </tr>\n",
       "    <tr>\n",
       "      <th>75479</th>\n",
       "      <td>20210226</td>\n",
       "      <td>WMT</td>\n",
       "      <td>131.479996</td>\n",
       "      <td>131.809998</td>\n",
       "      <td>129.860001</td>\n",
       "      <td>129.919998</td>\n",
       "      <td>14146800</td>\n",
       "    </tr>\n",
       "  </tbody>\n",
       "</table>\n",
       "<p>75480 rows × 7 columns</p>\n",
       "</div>"
      ],
      "text/plain": [
       "       datadate   tic        open        high         low       adjcp  \\\n",
       "0      20110301  AAPL   12.695357   12.704286   12.417143   10.745816   \n",
       "1      20110302  AAPL   12.498571   12.655357   12.442857   10.832259   \n",
       "2      20110303  AAPL   12.756786   12.849643   12.711429   11.061138   \n",
       "3      20110304  AAPL   12.859643   12.867500   12.776786   11.074675   \n",
       "4      20110307  AAPL   12.907143   12.916786   12.546786   10.931933   \n",
       "...         ...   ...         ...         ...         ...         ...   \n",
       "75475  20210222   WMT  137.740005  138.339996  136.250000  137.690002   \n",
       "75476  20210223   WMT  137.110001  137.389999  135.059998  135.470001   \n",
       "75477  20210224   WMT  135.869995  136.160004  133.050003  133.210007   \n",
       "75478  20210225   WMT  133.100006  134.009995  131.479996  131.949997   \n",
       "75479  20210226   WMT  131.479996  131.809998  129.860001  129.919998   \n",
       "\n",
       "          volume  \n",
       "0      456136800  \n",
       "1      602590800  \n",
       "2      500788400  \n",
       "3      453266800  \n",
       "4      546123200  \n",
       "...          ...  \n",
       "75475   10702200  \n",
       "75476   10433400  \n",
       "75477   15521900  \n",
       "75478   11108200  \n",
       "75479   14146800  \n",
       "\n",
       "[75480 rows x 7 columns]"
      ]
     },
     "execution_count": 44,
     "metadata": {},
     "output_type": "execute_result"
    }
   ],
   "source": [
    "#switched out DOW for DD\n",
    "tickers = ['AAPL', 'AMGN','AXP','BA','CAT','CRM','CSCO','CVX','DIS','DD','GS','HD','HON','IBM','INTC','JNJ','JPM','KO','MCD','MMM','MRK','MSFT','NKE','PG','TRV','UNH','V','VZ','WBA','WMT']\n",
    "print(len(tickers))\n",
    "yahoo_financials = YahooFinancials(tickers)\n",
    "temp = yahoo_financials.get_historical_price_data(\"2011-03-01\", \"2021-3-01\", \"daily\")\n",
    "df = pd.DataFrame()\n",
    "df_pre = []\n",
    "for a in tickers:\n",
    "    for x in temp[a]['prices']:\n",
    "        date = x['formatted_date']\n",
    "        date2 = date[:4]+date[5:7]+date[8:]\n",
    "        df_pre.append([date2, a, x['open'], x['high'], x['low'], x['adjclose'], x['volume']])\n",
    "df = pd.DataFrame(df_pre, columns=['datadate', 'tic', 'open', 'high', 'low', 'adjcp', 'volume'])\n",
    "df"
   ]
  },
  {
   "cell_type": "code",
   "execution_count": 45,
   "metadata": {},
   "outputs": [],
   "source": [
    "df.to_csv(\"stock_data.csv\")"
   ]
  },
  {
   "cell_type": "code",
   "execution_count": 28,
   "metadata": {},
   "outputs": [],
   "source": [
    "df = pd.read_csv(\"done_data.csv\")\n",
    "data = df[(df.datadate >= 20110301) & (df.datadate < 20110401)]\n",
    "data = data.sort_values(['datadate','tic'],ignore_index=True)\n",
    "data.index = data.datadate.factorize()[0]"
   ]
  },
  {
   "cell_type": "code",
   "execution_count": 33,
   "metadata": {},
   "outputs": [
    {
     "name": "stdout",
     "output_type": "stream",
     "text": [
      "[10.745816230773926, 41.07742691040039, 37.19963455200195, 56.33110809326172, 75.52627563476562, 32.012500762939446, 13.879755020141602, 69.12543487548828, 37.85514831542969, 138.16670227050778, 29.043302536010746, 43.2952880859375, 114.34309387207031, 15.83035659790039, 45.38909530639648, 34.517852783203125, 23.7879638671875, 56.1139030456543, 68.90581512451172, 23.168975830078125, 20.873891830444336, 19.36783218383789, 46.127479553222656, 46.34609603881836, 4.788000106811523, 36.36486053466797, 16.922571182250973, 22.84408950805664, 33.208465576171875, 40.87687301635742]\n"
     ]
    }
   ],
   "source": [
    "data2 = data.loc[0:14,:]\n",
    "print(data2.loc[0].adjcp.values.tolist())"
   ]
  },
  {
   "cell_type": "code",
   "execution_count": 37,
   "metadata": {},
   "outputs": [
    {
     "name": "stdout",
     "output_type": "stream",
     "text": [
      "    Unnamed: 0  Unnamed: 0.1  datadate   tic        open        high  \\\n",
      "0            0             0  20110301  AAPL   12.695357   12.704286   \n",
      "0         2516          2516  20110301  AMGN   52.169998   52.490002   \n",
      "0         5032          5032  20110301   AXP   43.700001   43.939999   \n",
      "0         7548          7548  20110301    BA   71.930000   72.230003   \n",
      "0        10064         10064  20110301   CAT  103.370003  103.639999   \n",
      "..         ...           ...       ...   ...         ...         ...   \n",
      "13       62913         62913  20110318   UNH   42.369999   42.849998   \n",
      "13       65429         65429  20110318     V   18.030001   18.035000   \n",
      "13       67945         67945  20110318    VZ   35.610001   35.840000   \n",
      "13       70461         70461  20110318   WBA   41.459999   42.299999   \n",
      "13       72977         72977  20110318   WMT   51.630001   51.889999   \n",
      "\n",
      "          low      adjcp     volume      macd         rsi        cci  \\\n",
      "0   12.417143  10.745816  456136800  0.000000  100.000000  66.666667   \n",
      "0   51.740002  41.077427    6668500  0.000000    0.000000 -66.666667   \n",
      "0   43.110001  37.199635    8848900  0.000000    0.000000 -66.666667   \n",
      "0   69.989998  56.331108    5186200  0.000000    0.000000 -66.666667   \n",
      "0   99.349998  75.526276    7283700  0.000000  100.000000 -66.666667   \n",
      "..        ...        ...        ...       ...         ...        ...   \n",
      "13  42.299999  36.598389    7372200 -0.168077   49.258389 -72.477432   \n",
      "13  17.730000  16.624617   25268400 -0.088305   42.115499 -75.054386   \n",
      "13  35.349998  22.729931   20800900 -0.085834   48.986336 -16.217197   \n",
      "13  40.630001  31.801468   10883200 -0.144379   34.127198 -90.336360   \n",
      "13  51.250000  40.728607   11805200 -0.038551   43.931357 -97.245777   \n",
      "\n",
      "           adx  \n",
      "0   100.000000  \n",
      "0   100.000000  \n",
      "0   100.000000  \n",
      "0   100.000000  \n",
      "0   100.000000  \n",
      "..         ...  \n",
      "13   24.162510  \n",
      "13   53.707570  \n",
      "13   33.037414  \n",
      "13   50.440522  \n",
      "13    0.468964  \n",
      "\n",
      "[420 rows x 13 columns]\n"
     ]
    }
   ],
   "source": [
    "print(data2.loc[0:13])"
   ]
  },
  {
   "cell_type": "code",
   "execution_count": 39,
   "metadata": {},
   "outputs": [
    {
     "data": {
      "text/html": [
       "<div>\n",
       "<style scoped>\n",
       "    .dataframe tbody tr th:only-of-type {\n",
       "        vertical-align: middle;\n",
       "    }\n",
       "\n",
       "    .dataframe tbody tr th {\n",
       "        vertical-align: top;\n",
       "    }\n",
       "\n",
       "    .dataframe thead th {\n",
       "        text-align: right;\n",
       "    }\n",
       "</style>\n",
       "<table border=\"1\" class=\"dataframe\">\n",
       "  <thead>\n",
       "    <tr style=\"text-align: right;\">\n",
       "      <th></th>\n",
       "      <th>A</th>\n",
       "      <th>B</th>\n",
       "    </tr>\n",
       "  </thead>\n",
       "  <tbody>\n",
       "    <tr>\n",
       "      <th>0</th>\n",
       "      <td>1.386294</td>\n",
       "      <td>2.197225</td>\n",
       "    </tr>\n",
       "    <tr>\n",
       "      <th>1</th>\n",
       "      <td>1.386294</td>\n",
       "      <td>2.197225</td>\n",
       "    </tr>\n",
       "    <tr>\n",
       "      <th>2</th>\n",
       "      <td>1.386294</td>\n",
       "      <td>2.197225</td>\n",
       "    </tr>\n",
       "  </tbody>\n",
       "</table>\n",
       "</div>"
      ],
      "text/plain": [
       "          A         B\n",
       "0  1.386294  2.197225\n",
       "1  1.386294  2.197225\n",
       "2  1.386294  2.197225"
      ]
     },
     "execution_count": 39,
     "metadata": {},
     "output_type": "execute_result"
    }
   ],
   "source": [
    "import numpy as np\n",
    "df = pd.DataFrame([[4, 9]] * 3, columns=['A', 'B'])\n",
    "df.apply(np.log)"
   ]
  },
  {
   "cell_type": "code",
   "execution_count": null,
   "metadata": {},
   "outputs": [],
   "source": []
  }
 ],
 "metadata": {
  "kernelspec": {
   "display_name": "Python 3",
   "language": "python",
   "name": "python3"
  },
  "language_info": {
   "codemirror_mode": {
    "name": "ipython",
    "version": 3
   },
   "file_extension": ".py",
   "mimetype": "text/x-python",
   "name": "python",
   "nbconvert_exporter": "python",
   "pygments_lexer": "ipython3",
   "version": "3.8.7"
  }
 },
 "nbformat": 4,
 "nbformat_minor": 4
}
